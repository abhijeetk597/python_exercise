{
  "nbformat": 4,
  "nbformat_minor": 0,
  "metadata": {
    "colab": {
      "provenance": [],
      "authorship_tag": "ABX9TyPsaYmQN5YcmqzmXEBm90q6",
      "include_colab_link": true
    },
    "kernelspec": {
      "name": "python3",
      "display_name": "Python 3"
    },
    "language_info": {
      "name": "python"
    }
  },
  "cells": [
    {
      "cell_type": "markdown",
      "metadata": {
        "id": "view-in-github",
        "colab_type": "text"
      },
      "source": [
        "<a href=\"https://colab.research.google.com/github/abhijeetk597/python_exercise/blob/main/lambda_map_filter_reduce.ipynb\" target=\"_parent\"><img src=\"https://colab.research.google.com/assets/colab-badge.svg\" alt=\"Open In Colab\"/></a>"
      ]
    },
    {
      "cell_type": "markdown",
      "source": [
        "# Lambda\n",
        "\n",
        "* A lambda function is a small anonymous function.\n",
        "\n",
        "* A lambda function can take any number of arguments, but can only have one expression.\n",
        "\n",
        "Syntax\n",
        "\n",
        "> lambda arguments : expression"
      ],
      "metadata": {
        "id": "74l9vcX9zlh8"
      }
    },
    {
      "cell_type": "code",
      "source": [
        "# example 1\n",
        "\n",
        "li_1 = [1, 2, 3, 4, 5]\n",
        "\n",
        "square = lambda x: x * x\n",
        "\n",
        "for i in li_1:\n",
        "  print(square(i))"
      ],
      "metadata": {
        "colab": {
          "base_uri": "https://localhost:8080/"
        },
        "id": "9DyjaCBD0rxA",
        "outputId": "6056215d-445f-4761-aaab-ffdf8757509b"
      },
      "execution_count": 29,
      "outputs": [
        {
          "output_type": "stream",
          "name": "stdout",
          "text": [
            "1\n",
            "4\n",
            "9\n",
            "16\n",
            "25\n"
          ]
        }
      ]
    },
    {
      "cell_type": "code",
      "source": [
        "# example 2\n",
        "\n",
        "add = lambda a, b: a + b\n",
        "\n",
        "add(8, 15)"
      ],
      "metadata": {
        "colab": {
          "base_uri": "https://localhost:8080/"
        },
        "id": "lkAiAMFE2Gla",
        "outputId": "9dce2829-adbd-4701-9d73-1021cd298dc2"
      },
      "execution_count": 30,
      "outputs": [
        {
          "output_type": "execute_result",
          "data": {
            "text/plain": [
              "23"
            ]
          },
          "metadata": {},
          "execution_count": 30
        }
      ]
    },
    {
      "cell_type": "markdown",
      "source": [
        "# Map\n",
        "\n",
        "* Python’s map() is a built-in function that allows you to process and transform all the items in an iterable without using an explicit for loop, a technique commonly known as mapping.\n",
        "* map() is useful when you need to apply a transformation function to each item in an iterable and transform them into a new iterable.\n",
        "* map() is one of the tools that support a functional programming style in Python.\n",
        "\n",
        "Syntax\n",
        "> map(function, iterable[, iterable1, iterable2,..., iterableN])\n"
      ],
      "metadata": {
        "id": "5rURXbOp1Jw4"
      }
    },
    {
      "cell_type": "code",
      "source": [
        "# example 1\n",
        "\n",
        "li_2 = [1, 2, 3, 4, 5]\n",
        "\n",
        "def square(i):\n",
        "  return i * i\n",
        "\n",
        "map(square, li_2)"
      ],
      "metadata": {
        "colab": {
          "base_uri": "https://localhost:8080/"
        },
        "id": "ogL6bi5f3qRr",
        "outputId": "01f35926-6f75-4d89-da06-5a8ca8963b15"
      },
      "execution_count": 3,
      "outputs": [
        {
          "output_type": "execute_result",
          "data": {
            "text/plain": [
              "<map at 0x78fa1f676ec0>"
            ]
          },
          "metadata": {},
          "execution_count": 3
        }
      ]
    },
    {
      "cell_type": "markdown",
      "source": [
        "🔑 Map function returns an object"
      ],
      "metadata": {
        "id": "WbCo40jh4DLp"
      }
    },
    {
      "cell_type": "code",
      "source": [
        "list(map(square, li_2))"
      ],
      "metadata": {
        "colab": {
          "base_uri": "https://localhost:8080/"
        },
        "id": "3rZlnpPr-_oO",
        "outputId": "bfe922ce-2a83-48e0-bec5-460553953e77"
      },
      "execution_count": 4,
      "outputs": [
        {
          "output_type": "execute_result",
          "data": {
            "text/plain": [
              "[1, 4, 9, 16, 25]"
            ]
          },
          "metadata": {},
          "execution_count": 4
        }
      ]
    },
    {
      "cell_type": "code",
      "source": [
        "# example 2 : using lamba function\n",
        "\n",
        "cube = lambda x: x**3\n",
        "\n",
        "print(list(map(cube, li_2)))"
      ],
      "metadata": {
        "colab": {
          "base_uri": "https://localhost:8080/"
        },
        "id": "EahXOPeC4Zjq",
        "outputId": "af5d7e75-343f-4ddb-ac0d-893610ed818a"
      },
      "execution_count": 6,
      "outputs": [
        {
          "output_type": "stream",
          "name": "stdout",
          "text": [
            "[1, 8, 27, 64, 125]\n"
          ]
        }
      ]
    },
    {
      "cell_type": "code",
      "source": [
        "# example 3: while taking input from user\n",
        "\n",
        "x, y, z = map(int, input('Enter 3 numbers (space separated): ').split()[:3])\n",
        "\n",
        "print(f'x = {x}, y = {y}, z = {z}')"
      ],
      "metadata": {
        "colab": {
          "base_uri": "https://localhost:8080/"
        },
        "id": "0Lvuo_7P_2S9",
        "outputId": "e35c1989-c981-4a27-95c2-8a91298eb659"
      },
      "execution_count": 8,
      "outputs": [
        {
          "output_type": "stream",
          "name": "stdout",
          "text": [
            "Enter 3 numbers (space separated): 24 99 56\n",
            "x = 24, y = 99, z = 56\n"
          ]
        }
      ]
    },
    {
      "cell_type": "markdown",
      "source": [
        "# Filter\n",
        "\n",
        "* The filter() function returns an iterator where the items are filtered through a function to test if the item is accepted or not.\n",
        "* When we need to filter out elements satisfying our condition\n",
        "\n",
        "Syntax\n",
        "> filter(function, iterable)"
      ],
      "metadata": {
        "id": "xPqsMyUn4h7j"
      }
    },
    {
      "cell_type": "code",
      "source": [
        "# example 1: finding even numbers in list\n",
        "\n",
        "li_3 = [1, 2, 3, 4, 5]\n",
        "\n",
        "def if_even(i):\n",
        "  return i % 2 == 0\n",
        "\n",
        "list(filter(if_even, li_3))"
      ],
      "metadata": {
        "colab": {
          "base_uri": "https://localhost:8080/"
        },
        "id": "rukC3WE3Beje",
        "outputId": "b35fc6b1-6659-43fa-f569-8224dec11934"
      },
      "execution_count": 10,
      "outputs": [
        {
          "output_type": "execute_result",
          "data": {
            "text/plain": [
              "[2, 4]"
            ]
          },
          "metadata": {},
          "execution_count": 10
        }
      ]
    },
    {
      "cell_type": "code",
      "source": [
        "# example 2: finding words in list having length more than 5\n",
        "\n",
        "lst_str = ['Sed', 'ut', 'perspiciatis', 'unde', 'omnis', 'iste', 'natus', 'error', 'sit', 'voluptatem', 'accusantium', 'doloremque']\n",
        "\n",
        "check_length = lambda x: len(x) > 5\n",
        "\n",
        "list(filter(check_length, lst_str))"
      ],
      "metadata": {
        "colab": {
          "base_uri": "https://localhost:8080/"
        },
        "id": "ZFy-PGldEkpl",
        "outputId": "1b32e7b3-0757-4d7c-f659-432bade4c6ef"
      },
      "execution_count": 15,
      "outputs": [
        {
          "output_type": "execute_result",
          "data": {
            "text/plain": [
              "['perspiciatis', 'voluptatem', 'accusantium', 'doloremque']"
            ]
          },
          "metadata": {},
          "execution_count": 15
        }
      ]
    },
    {
      "cell_type": "markdown",
      "source": [
        "# Reduce\n",
        "\n",
        "* Python's `reduce()` is a function that implements a mathematical technique called folding or reduction.\n",
        "* `reduce()` is useful when you need to apply a function to an iterable and reduce it to a single cumulative value.\n",
        "* `reduce()` needs to be imported from `functools` module\n",
        "\n",
        "Syntax\n",
        "> functools.reduce(function, iterable[, initializer])"
      ],
      "metadata": {
        "id": "_MD0yLaQB7Ki"
      }
    },
    {
      "cell_type": "code",
      "source": [
        "# example 1: finding sum of all elemets using reduce\n",
        "# using initializer as per syntax\n",
        "\n",
        "from functools import reduce\n",
        "\n",
        "li_4 = [1, 2, 3, 4, 5]\n",
        "\n",
        "def sum(initial_sum, item):\n",
        "  return initial_sum + item\n",
        "\n",
        "reduce(sum, li_4, 0)"
      ],
      "metadata": {
        "colab": {
          "base_uri": "https://localhost:8080/"
        },
        "id": "3SMRlkxrGHiq",
        "outputId": "ccdaef55-6d11-4e24-df22-08f3c254971c"
      },
      "execution_count": 16,
      "outputs": [
        {
          "output_type": "execute_result",
          "data": {
            "text/plain": [
              "15"
            ]
          },
          "metadata": {},
          "execution_count": 16
        }
      ]
    },
    {
      "cell_type": "code",
      "source": [
        "# without initializer\n",
        "\n",
        "from functools import reduce\n",
        "\n",
        "li_4 = [1, 2, 3, 4, 5]\n",
        "\n",
        "reduce(lambda a, b: a + b, li_4)"
      ],
      "metadata": {
        "colab": {
          "base_uri": "https://localhost:8080/"
        },
        "id": "OA3AbgSxJ15h",
        "outputId": "9a98595f-3052-4dab-82d3-ede52d657f33"
      },
      "execution_count": 19,
      "outputs": [
        {
          "output_type": "execute_result",
          "data": {
            "text/plain": [
              "15"
            ]
          },
          "metadata": {},
          "execution_count": 19
        }
      ]
    },
    {
      "cell_type": "code",
      "source": [
        "# example 2: product of all elements\n",
        "\n",
        "from functools import reduce\n",
        "\n",
        "li_4 = [1, 2, 3, 4, 5]\n",
        "\n",
        "reduce(lambda a, b: a * b, li_4)\n"
      ],
      "metadata": {
        "colab": {
          "base_uri": "https://localhost:8080/"
        },
        "id": "ALsXE5AfKMZl",
        "outputId": "5acd3d66-46bc-44ee-8d5a-e8e9ccd36b24"
      },
      "execution_count": 21,
      "outputs": [
        {
          "output_type": "execute_result",
          "data": {
            "text/plain": [
              "120"
            ]
          },
          "metadata": {},
          "execution_count": 21
        }
      ]
    },
    {
      "cell_type": "code",
      "source": [
        "# example 3: finding word having max length\n",
        "\n",
        "from functools import reduce\n",
        "\n",
        "li_5 = ['Sed', 'ut', 'perspiciatis', 'unde', 'omnis', 'iste', 'natus', 'error', 'sit', 'voluptatem', 'accusantium', 'doloremque']\n",
        "\n",
        "reduce(lambda a, b: a if len(a) > len(b) else b, li_5)"
      ],
      "metadata": {
        "colab": {
          "base_uri": "https://localhost:8080/",
          "height": 36
        },
        "id": "Hcn5mS17IRVn",
        "outputId": "1febfc67-e59a-483d-8628-cbbc28ff98c8"
      },
      "execution_count": 18,
      "outputs": [
        {
          "output_type": "execute_result",
          "data": {
            "text/plain": [
              "'perspiciatis'"
            ],
            "application/vnd.google.colaboratory.intrinsic+json": {
              "type": "string"
            }
          },
          "metadata": {},
          "execution_count": 18
        }
      ]
    },
    {
      "cell_type": "code",
      "source": [],
      "metadata": {
        "id": "GbYyUxT_Ig62"
      },
      "execution_count": null,
      "outputs": []
    }
  ]
}